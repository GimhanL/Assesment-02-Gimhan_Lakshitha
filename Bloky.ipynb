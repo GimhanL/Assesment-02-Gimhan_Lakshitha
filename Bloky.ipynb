{
  "nbformat": 4,
  "nbformat_minor": 0,
  "metadata": {
    "colab": {
      "provenance": [],
      "authorship_tag": "ABX9TyOCNmKA1V0kqKHBE0ybWmLj",
      "include_colab_link": true
    },
    "kernelspec": {
      "name": "python3",
      "display_name": "Python 3"
    },
    "language_info": {
      "name": "python"
    }
  },
  "cells": [
    {
      "cell_type": "markdown",
      "metadata": {
        "id": "view-in-github",
        "colab_type": "text"
      },
      "source": [
        "<a href=\"https://colab.research.google.com/github/GimhanL/Assesment-02-Gimhan_Lakshitha/blob/main/Bloky.ipynb\" target=\"_parent\"><img src=\"https://colab.research.google.com/assets/colab-badge.svg\" alt=\"Open In Colab\"/></a>"
      ]
    },
    {
      "cell_type": "code",
      "execution_count": 1,
      "metadata": {
        "id": "A2upAIOiMLAj"
      },
      "outputs": [],
      "source": [
        "import hashlib\n",
        "import time\n",
        "import datetime"
      ]
    },
    {
      "cell_type": "code",
      "source": [
        "chain = []\n",
        "\n",
        "# Function to get a hash of data\n",
        "def get_hash(data):\n",
        "    return hashlib.sha256(data.encode()).hexdigest()\n",
        "\n",
        "# Function to create a block (simplified for this example)\n",
        "def create_block(data):\n",
        "    timestamp = datetime.datetime.now()\n",
        "    block = {\n",
        "        'timestamp': str(timestamp),\n",
        "        'data': data,\n",
        "        'previous_hash': chain[-1]['hash'] if chain else '0', # Link to previous block\n",
        "        'hash': '' # Placeholder for the current block's hash\n",
        "    }\n",
        "    block['hash'] = get_hash(str(block)) # Calculate hash after adding all data\n",
        "    return block\n",
        "\n",
        "# Function to add a block to the chain\n",
        "def add_block(chain, block):\n",
        "    chain.append(block)"
      ],
      "metadata": {
        "id": "Ji4SRwjZMwih"
      },
      "execution_count": 2,
      "outputs": []
    },
    {
      "cell_type": "code",
      "source": [
        "message=[\"ted send 2 coin to phil\", \"mmary send 1.5 coins to phile\",\"phile send 1.5 coins to joshua\",\"nina sends 4.5 coins to jan\",\"john sends 2.4 coins to hira\"]"
      ],
      "metadata": {
        "id": "8w4gB_HYNniG"
      },
      "execution_count": null,
      "outputs": []
    }
  ]
}