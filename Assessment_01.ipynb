{
  "nbformat": 4,
  "nbformat_minor": 0,
  "metadata": {
    "colab": {
      "provenance": [],
      "authorship_tag": "ABX9TyNdAVq/yFsqgKva9Yr25c/N",
      "include_colab_link": true
    },
    "kernelspec": {
      "name": "python3",
      "display_name": "Python 3"
    },
    "language_info": {
      "name": "python"
    }
  },
  "cells": [
    {
      "cell_type": "markdown",
      "metadata": {
        "id": "view-in-github",
        "colab_type": "text"
      },
      "source": [
        "<a href=\"https://colab.research.google.com/github/GimhanL/Assesment-02-Gimhan_Lakshitha/blob/main/Assessment_01.ipynb\" target=\"_parent\"><img src=\"https://colab.research.google.com/assets/colab-badge.svg\" alt=\"Open In Colab\"/></a>"
      ]
    },
    {
      "cell_type": "code",
      "execution_count": null,
      "metadata": {
        "id": "BurzmNE5ZGso"
      },
      "outputs": [],
      "source": [
        "import time\n",
        "from block import Block\n",
        "\n",
        "class Block:\n",
        "    def __init__(self, index, previous_hash, timestamp, data, proof):\n",
        "        self.index = index\n",
        "        self.previous_hash = previous_hash\n",
        "        self.timestamp = timestamp\n",
        "        self.data = data\n",
        "        self.proof = proof\n",
        "        self.hash = self.calculate_hash()\n",
        "\n",
        "      def calculate_hash(self):\n",
        "        \"\"\"\n",
        "        Turn this block’s contents into a SHA-256 hash.\n",
        "        \"\"\"\n",
        "        # 1. making all the fields into one string\n",
        "        to_hash = (\n",
        "            f\"{self.index}\"\n",
        "            f\"{self.previous_hash}\"\n",
        "            f\"{self.timestamp}\"\n",
        "            f\"{self.data}\"\n",
        "            f\"{self.proof}\"\n",
        "        )\n",
        "        # 2. Hash it and return the hex\n",
        "        return hashlib.sha256(to_hash.encode()).hexdigest()\n"
      ]
    },
    {
      "cell_type": "markdown",
      "source": [],
      "metadata": {
        "id": "FbpyJprw7vcc"
      }
    }
  ]
}