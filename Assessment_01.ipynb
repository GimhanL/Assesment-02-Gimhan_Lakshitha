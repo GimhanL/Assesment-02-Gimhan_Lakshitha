{
  "nbformat": 4,
  "nbformat_minor": 0,
  "metadata": {
    "colab": {
      "provenance": [],
      "authorship_tag": "ABX9TyPDHKGJaQmnUAEoxNKWf3XS",
      "include_colab_link": true
    },
    "kernelspec": {
      "name": "python3",
      "display_name": "Python 3"
    },
    "language_info": {
      "name": "python"
    }
  },
  "cells": [
    {
      "cell_type": "markdown",
      "metadata": {
        "id": "view-in-github",
        "colab_type": "text"
      },
      "source": [
        "<a href=\"https://colab.research.google.com/github/GimhanL/Assesment-02-Gimhan_Lakshitha/blob/main/Assessment_01.ipynb\" target=\"_parent\"><img src=\"https://colab.research.google.com/assets/colab-badge.svg\" alt=\"Open In Colab\"/></a>"
      ]
    },
    {
      "cell_type": "code",
      "execution_count": 19,
      "metadata": {
        "id": "BurzmNE5ZGso"
      },
      "outputs": [],
      "source": [
        "import time\n",
        "import hashlib\n",
        "\n",
        "\n",
        "class Block:\n",
        "    def __init__(self, index, previous_hash, timestamp, data, proof):\n",
        "        self.index = index\n",
        "        self.previous_hash = previous_hash\n",
        "        self.timestamp = timestamp\n",
        "        self.data = data\n",
        "        self.proof = proof\n",
        "        self.hash = self.calculate_hash()\n",
        "\n",
        "    def calculate_hash(self):\n",
        "        \"\"\"\n",
        "        Turn this block’s contents into a SHA-256 hash.\n",
        "        \"\"\"\n",
        "        # 1. making all the fields into one string\n",
        "        to_hash = (\n",
        "            f\"{self.index}\"\n",
        "            f\"{self.previous_hash}\"\n",
        "            f\"{self.timestamp}\"\n",
        "            f\"{self.data}\"\n",
        "            f\"{self.proof}\"\n",
        "        )\n",
        "        # 2. Hash it and return the hex\n",
        "        return hashlib.sha256(to_hash.encode()).hexdigest()\n",
        "class Blockchain:\n",
        "      def __init__(self, difficulty=4):  # Set blockchain difficulty\n",
        "       self.chain = [self.create_genesis_block()]  # Start with genesis block\n",
        "       self.difficulty = difficulty  # Set difficulty\n",
        "\n",
        "\n",
        "      def create_genesis_block(self):\n",
        "        genesis = Block(\n",
        "        0,                              # index\n",
        "        \"0\",                            # previous_hash\n",
        "        time.time(),                    # timestamp\n",
        "        \"Genesis Block\",                # data\n",
        "        0                               # proof\n",
        "    )\n",
        "        self.proof_of_work(genesis)\n",
        "        return genesis\n",
        "\n",
        "      def get_latest_block(self):\n",
        "\n",
        "        return self.chain[-1]\n",
        "\n",
        "\n",
        "#bc = Blockchain()\n",
        "#print(bc.chain)         # Should contain exactly one Block\n",
        "#print(bc.get_latest_block().data)\n",
        "\n",
        "      def proof_of_work(self, block):\n",
        "        target = \"0\" * self.difficulty      # creating a string of zeros equal to the difficulty\n",
        "\n"
      ]
    },
    {
      "cell_type": "code",
      "execution_count": 4,
      "metadata": {
        "id": "Gv7x7Ety0GYj"
      },
      "outputs": [],
      "source": [
        "\n"
      ]
    },
    {
      "cell_type": "markdown",
      "source": [],
      "metadata": {
        "id": "FbpyJprw7vcc"
      }
    }
  ]
}