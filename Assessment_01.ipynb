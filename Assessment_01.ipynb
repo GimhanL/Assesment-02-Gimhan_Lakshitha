{
  "nbformat": 4,
  "nbformat_minor": 0,
  "metadata": {
    "colab": {
      "provenance": [],
      "authorship_tag": "ABX9TyNpUsUGX9IYwRlxch7q2Vim",
      "include_colab_link": true
    },
    "kernelspec": {
      "name": "python3",
      "display_name": "Python 3"
    },
    "language_info": {
      "name": "python"
    }
  },
  "cells": [
    {
      "cell_type": "markdown",
      "metadata": {
        "id": "view-in-github",
        "colab_type": "text"
      },
      "source": [
        "<a href=\"https://colab.research.google.com/github/GimhanL/Assesment-02-Gimhan_Lakshitha/blob/main/Assessment_01.ipynb\" target=\"_parent\"><img src=\"https://colab.research.google.com/assets/colab-badge.svg\" alt=\"Open In Colab\"/></a>"
      ]
    },
    {
      "cell_type": "code",
      "execution_count": 1,
      "metadata": {
        "id": "BurzmNE5ZGso",
        "colab": {
          "base_uri": "https://localhost:8080/",
          "height": 442
        },
        "outputId": "6641f4d6-6940-4221-8a91-63d47436662f"
      },
      "outputs": [
        {
          "output_type": "stream",
          "name": "stdout",
          "text": [
            "\n",
            "=== Blockchain Menu ===\n",
            "1. Add a new block\n",
            "2. Display the blockchain\n",
            "3. Validate the blockchain\n",
            "4. Exit\n"
          ]
        },
        {
          "output_type": "error",
          "ename": "KeyboardInterrupt",
          "evalue": "Interrupted by user",
          "traceback": [
            "\u001b[0;31m---------------------------------------------------------------------------\u001b[0m",
            "\u001b[0;31mKeyboardInterrupt\u001b[0m                         Traceback (most recent call last)",
            "\u001b[0;32m/tmp/ipython-input-1-55413620.py\u001b[0m in \u001b[0;36m<cell line: 0>\u001b[0;34m()\u001b[0m\n\u001b[1;32m    136\u001b[0m \u001b[0;32mif\u001b[0m \u001b[0m__name__\u001b[0m \u001b[0;34m==\u001b[0m \u001b[0;34m\"__main__\"\u001b[0m\u001b[0;34m:\u001b[0m\u001b[0;34m\u001b[0m\u001b[0;34m\u001b[0m\u001b[0m\n\u001b[1;32m    137\u001b[0m     \u001b[0;31m# executing the program\u001b[0m\u001b[0;34m\u001b[0m\u001b[0;34m\u001b[0m\u001b[0m\n\u001b[0;32m--> 138\u001b[0;31m    \u001b[0mmain\u001b[0m\u001b[0;34m(\u001b[0m\u001b[0;34m)\u001b[0m\u001b[0;34m\u001b[0m\u001b[0;34m\u001b[0m\u001b[0m\n\u001b[0m",
            "\u001b[0;32m/tmp/ipython-input-1-55413620.py\u001b[0m in \u001b[0;36mmain\u001b[0;34m()\u001b[0m\n\u001b[1;32m    103\u001b[0m         \u001b[0mprint\u001b[0m\u001b[0;34m(\u001b[0m\u001b[0;34m\"3. Validate the blockchain\"\u001b[0m\u001b[0;34m)\u001b[0m\u001b[0;34m\u001b[0m\u001b[0;34m\u001b[0m\u001b[0m\n\u001b[1;32m    104\u001b[0m         \u001b[0mprint\u001b[0m\u001b[0;34m(\u001b[0m\u001b[0;34m\"4. Exit\"\u001b[0m\u001b[0;34m)\u001b[0m\u001b[0;34m\u001b[0m\u001b[0;34m\u001b[0m\u001b[0m\n\u001b[0;32m--> 105\u001b[0;31m         \u001b[0mchoice\u001b[0m \u001b[0;34m=\u001b[0m \u001b[0minput\u001b[0m\u001b[0;34m(\u001b[0m\u001b[0;34m\"Enter choice (1–4): \"\u001b[0m\u001b[0;34m)\u001b[0m\u001b[0;34m.\u001b[0m\u001b[0mstrip\u001b[0m\u001b[0;34m(\u001b[0m\u001b[0;34m)\u001b[0m  \u001b[0;31m# Get user’s menu selection\u001b[0m\u001b[0;34m\u001b[0m\u001b[0;34m\u001b[0m\u001b[0m\n\u001b[0m\u001b[1;32m    106\u001b[0m \u001b[0;34m\u001b[0m\u001b[0m\n\u001b[1;32m    107\u001b[0m         \u001b[0;31m# adding of conditions\u001b[0m\u001b[0;34m\u001b[0m\u001b[0;34m\u001b[0m\u001b[0m\n",
            "\u001b[0;32m/usr/local/lib/python3.11/dist-packages/ipykernel/kernelbase.py\u001b[0m in \u001b[0;36mraw_input\u001b[0;34m(self, prompt)\u001b[0m\n\u001b[1;32m   1175\u001b[0m                 \u001b[0;34m\"raw_input was called, but this frontend does not support input requests.\"\u001b[0m\u001b[0;34m\u001b[0m\u001b[0;34m\u001b[0m\u001b[0m\n\u001b[1;32m   1176\u001b[0m             )\n\u001b[0;32m-> 1177\u001b[0;31m         return self._input_request(\n\u001b[0m\u001b[1;32m   1178\u001b[0m             \u001b[0mstr\u001b[0m\u001b[0;34m(\u001b[0m\u001b[0mprompt\u001b[0m\u001b[0;34m)\u001b[0m\u001b[0;34m,\u001b[0m\u001b[0;34m\u001b[0m\u001b[0;34m\u001b[0m\u001b[0m\n\u001b[1;32m   1179\u001b[0m             \u001b[0mself\u001b[0m\u001b[0;34m.\u001b[0m\u001b[0m_parent_ident\u001b[0m\u001b[0;34m[\u001b[0m\u001b[0;34m\"shell\"\u001b[0m\u001b[0;34m]\u001b[0m\u001b[0;34m,\u001b[0m\u001b[0;34m\u001b[0m\u001b[0;34m\u001b[0m\u001b[0m\n",
            "\u001b[0;32m/usr/local/lib/python3.11/dist-packages/ipykernel/kernelbase.py\u001b[0m in \u001b[0;36m_input_request\u001b[0;34m(self, prompt, ident, parent, password)\u001b[0m\n\u001b[1;32m   1217\u001b[0m             \u001b[0;32mexcept\u001b[0m \u001b[0mKeyboardInterrupt\u001b[0m\u001b[0;34m:\u001b[0m\u001b[0;34m\u001b[0m\u001b[0;34m\u001b[0m\u001b[0m\n\u001b[1;32m   1218\u001b[0m                 \u001b[0;31m# re-raise KeyboardInterrupt, to truncate traceback\u001b[0m\u001b[0;34m\u001b[0m\u001b[0;34m\u001b[0m\u001b[0m\n\u001b[0;32m-> 1219\u001b[0;31m                 \u001b[0;32mraise\u001b[0m \u001b[0mKeyboardInterrupt\u001b[0m\u001b[0;34m(\u001b[0m\u001b[0;34m\"Interrupted by user\"\u001b[0m\u001b[0;34m)\u001b[0m \u001b[0;32mfrom\u001b[0m \u001b[0;32mNone\u001b[0m\u001b[0;34m\u001b[0m\u001b[0;34m\u001b[0m\u001b[0m\n\u001b[0m\u001b[1;32m   1220\u001b[0m             \u001b[0;32mexcept\u001b[0m \u001b[0mException\u001b[0m\u001b[0;34m:\u001b[0m\u001b[0;34m\u001b[0m\u001b[0;34m\u001b[0m\u001b[0m\n\u001b[1;32m   1221\u001b[0m                 \u001b[0mself\u001b[0m\u001b[0;34m.\u001b[0m\u001b[0mlog\u001b[0m\u001b[0;34m.\u001b[0m\u001b[0mwarning\u001b[0m\u001b[0;34m(\u001b[0m\u001b[0;34m\"Invalid Message:\"\u001b[0m\u001b[0;34m,\u001b[0m \u001b[0mexc_info\u001b[0m\u001b[0;34m=\u001b[0m\u001b[0;32mTrue\u001b[0m\u001b[0;34m)\u001b[0m\u001b[0;34m\u001b[0m\u001b[0;34m\u001b[0m\u001b[0m\n",
            "\u001b[0;31mKeyboardInterrupt\u001b[0m: Interrupted by user"
          ]
        }
      ],
      "source": [
        "import time\n",
        "import hashlib\n",
        "\n",
        "\n",
        "class Block:\n",
        "    def __init__(self, index, previous_hash, timestamp, data, proof):\n",
        "        self.index = index           # block position\n",
        "        self.previous_hash = previous_hash  # link to prev block\n",
        "        self.timestamp = timestamp   # creation time\n",
        "        self.data = data             # block data\n",
        "        self.proof = proof           # proof-of-work nonce\n",
        "        self.hash = self.calculate_hash()  # current block hash\n",
        "\n",
        "    def calculate_hash(self):\n",
        "        # making all the fields into one string\n",
        "        to_hash = (\n",
        "            f\"{self.index}\"\n",
        "            f\"{self.previous_hash}\"\n",
        "            f\"{self.timestamp}\"\n",
        "            f\"{self.data}\"\n",
        "            f\"{self.proof}\"\n",
        "        )\n",
        "        # hash it and return the hex\n",
        "        return hashlib.sha256(to_hash.encode()).hexdigest()\n",
        "\n",
        "class Blockchain:\n",
        "\n",
        "     def __init__(self, difficulty=4):     # Set blockchain difficulty\n",
        "         self.difficulty = difficulty  # Set difficulty\n",
        "         self.chain = [self.create_genesis_block()]  # Start with genesis block\n",
        "\n",
        "\n",
        "\n",
        "     def create_genesis_block(self):\n",
        "      genesis = Block(\n",
        "          0,                              # index\n",
        "          \"0\",                            # previous_hash\n",
        "          time.time(),                    # timestamp\n",
        "          \"Genesis Block\",                # data\n",
        "          0                               # proof\n",
        "      )\n",
        "      self.proof_of_work(genesis)\n",
        "      return genesis\n",
        "\n",
        "     def get_latest_block(self):\n",
        "          return self.chain[-1]\n",
        "\n",
        "     def proof_of_work(self, block):\n",
        "\n",
        "         target = \"0\" * self.difficulty      # creating a string of zeros equal to the difficulty\n",
        "         block.proof = 0                     # initialize the proof (nonce) to zero\n",
        "         block.hash = block.calculate_hash()    # compute the block's hash with the initial proof\n",
        "         while not block.hash.startswith(target): # creating a while loopto keep it going until our hash starts with the right number of zeros\n",
        "             block.proof += 1                # increment proof by 1\n",
        "             block.hash = block.calculate_hash()  # recalculate hash with new proof\n",
        "         return block.hash\n",
        "\n",
        "\n",
        "     def add_block(self, new_block):\n",
        "        new_block.previous_hash = self.get_latest_block().hash  #point this block’s previous_hash to our last block’s hash\n",
        "        self.proof_of_work(new_block)  #running proof-of-work to find a valid nonce\n",
        "        self.chain.append(new_block)   #getting the mined block to our chain\n",
        "\n",
        "     def add_data(self, data):\n",
        "        # Deciding the block’s index based on how many blocks we have so far\n",
        "        idx = len(self.chain)\n",
        "        blk = Block(\n",
        "            index=idx,\n",
        "            previous_hash=\"\",          #this will be set to the prior block’s hash when added to the chain\n",
        "            timestamp=time.time(),     #record current time\n",
        "            data=data,                 #store the user’s data\n",
        "            proof=0                    # start proof at zero\n",
        "\n",
        "        )\n",
        "        self.add_block(blk)  # link, mine, and store in this block\n",
        "\n",
        "     def is_chain_valid(self):  # check blockchain validity\n",
        "       #start loop at block 1 because block 0 (the genesis block) has no previous block\n",
        "       for i in range(1, len(self.chain)):\n",
        "          curr = self.chain[i]       # current block we're checking\n",
        "          prev = self.chain[i - 1]   # reference to the previous block\n",
        "\n",
        "          #ensuring this block points to the correct previous hash\n",
        "          if curr.previous_hash != prev.hash:\n",
        "              return False\n",
        "\n",
        "          # verifying the block data\n",
        "          if curr.calculate_hash() != curr.hash:\n",
        "             return False\n",
        "\n",
        "       return True\n",
        "\n",
        "def main():\n",
        "    # initialize a new blockchain with proof-of-work\n",
        "    bc = Blockchain(difficulty=4)\n",
        "\n",
        "    # main loop for user interaction\n",
        "    while True:\n",
        "        # display options\n",
        "        print(\"\\n=== Blockchain Menu ===\")\n",
        "        print(\"1. Add a new block\")\n",
        "        print(\"2. Display the blockchain\")\n",
        "        print(\"3. Validate the blockchain\")\n",
        "        print(\"4. Exit\")\n",
        "        choice = input(\"Enter choice (1–4): \").strip()  # Get user’s menu selection\n",
        "\n",
        "        # adding of conditions\n",
        "        if choice == \"1\":\n",
        "            # get data from the user\n",
        "            data = input(\"Enter transaction: \")\n",
        "            # adding a new block with that data\n",
        "            bc.add_data(data)\n",
        "            # showing which block index was just added\n",
        "            print(f\" Block #{bc.get_latest_block().index} is added.\")\n",
        "        elif choice == \"2\":\n",
        "            # for loop to show all blocks in the chain\n",
        "            for b in bc.chain:\n",
        "                print(f\"\\nBlock Number {b.index}\")       # print block number\n",
        "                print(f\"  Timestamp: {b.timestamp}\")     # print when it was created\n",
        "                print(f\"  Data:      {b.data}\")          # print the stored data\n",
        "                print(f\"  Hash:      {b.hash}\")          # print block’s own hash\n",
        "                print(f\"  Prev Hash: {b.previous_hash}\") # print hash of the previous block\n",
        "        elif choice == \"3\":\n",
        "            # verify the chain\n",
        "            valid = bc.is_chain_valid()\n",
        "            # print whether chain is valid\n",
        "            print(\"Chain valid.\" if valid else \"Chain invalid!\")\n",
        "        elif choice == \"4\":\n",
        "            # Option 4: exit the application\n",
        "            print(\"Blockchain session ended.!\")\n",
        "            break\n",
        "        else:\n",
        "            # inform the user of invalid input\n",
        "            print(\"Invalid input. Please Choose a number!\")\n",
        "\n",
        "if __name__ == \"__main__\":\n",
        "    # executing the program\n",
        "   main()\n"
      ]
    },
    {
      "cell_type": "code",
      "execution_count": null,
      "metadata": {
        "id": "Gv7x7Ety0GYj"
      },
      "outputs": [],
      "source": [
        "\n"
      ]
    },
    {
      "cell_type": "markdown",
      "source": [],
      "metadata": {
        "id": "FbpyJprw7vcc"
      }
    }
  ]
}