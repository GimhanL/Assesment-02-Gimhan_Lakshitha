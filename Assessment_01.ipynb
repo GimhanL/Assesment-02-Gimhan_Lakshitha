{
  "nbformat": 4,
  "nbformat_minor": 0,
  "metadata": {
    "colab": {
      "provenance": [],
      "authorship_tag": "ABX9TyMy+U/G5pJGN482/1az8rv5",
      "include_colab_link": true
    },
    "kernelspec": {
      "name": "python3",
      "display_name": "Python 3"
    },
    "language_info": {
      "name": "python"
    }
  },
  "cells": [
    {
      "cell_type": "markdown",
      "metadata": {
        "id": "view-in-github",
        "colab_type": "text"
      },
      "source": [
        "<a href=\"https://colab.research.google.com/github/GimhanL/Assesment-02-Gimhan_Lakshitha/blob/main/Assessment_01.ipynb\" target=\"_parent\"><img src=\"https://colab.research.google.com/assets/colab-badge.svg\" alt=\"Open In Colab\"/></a>"
      ]
    },
    {
      "cell_type": "code",
      "execution_count": 4,
      "metadata": {
        "id": "BurzmNE5ZGso",
        "colab": {
          "base_uri": "https://localhost:8080/",
          "height": 110
        },
        "outputId": "b000d1b9-c0d4-464d-e490-0ea4740b9aef"
      },
      "outputs": [
        {
          "output_type": "error",
          "ename": "IndentationError",
          "evalue": "unindent does not match any outer indentation level (<tokenize>, line 14)",
          "traceback": [
            "\u001b[0;36m  File \u001b[0;32m\"<tokenize>\"\u001b[0;36m, line \u001b[0;32m14\u001b[0m\n\u001b[0;31m    def calculate_hash(self):\u001b[0m\n\u001b[0m    ^\u001b[0m\n\u001b[0;31mIndentationError\u001b[0m\u001b[0;31m:\u001b[0m unindent does not match any outer indentation level\n"
          ]
        }
      ],
      "source": [
        "import time\n",
        "import hashlib\n",
        "from block import Block\n",
        "\n",
        "class Block:\n",
        "    def __init__(self, index, previous_hash, timestamp, data, proof):\n",
        "        self.index = index\n",
        "        self.previous_hash = previous_hash\n",
        "        self.timestamp = timestamp\n",
        "        self.data = data\n",
        "        self.proof = proof\n",
        "        self.hash = self.calculate_hash()\n",
        "\n",
        "      def calculate_hash(self):\n",
        "        \"\"\"\n",
        "        Turn this block’s contents into a SHA-256 hash.\n",
        "        \"\"\"\n",
        "        # 1. making all the fields into one string\n",
        "        to_hash = (\n",
        "            f\"{self.index}\"\n",
        "            f\"{self.previous_hash}\"\n",
        "            f\"{self.timestamp}\"\n",
        "            f\"{self.data}\"\n",
        "            f\"{self.proof}\"\n",
        "        )\n",
        "        # 2. Hash it and return the hex\n",
        "        return hashlib.sha256(to_hash.encode()).hexdigest()\n",
        "class Blockchain:\n",
        "      def __init__(self, difficulty=4):  # Set blockchain difficulty\n",
        "       self.chain = []  # Start with no blocks\n",
        "       self.difficulty = difficulty  # Set difficulty\n",
        "\n",
        "\n",
        "        def create_genesis_block(self):\n",
        "              # TODO: create genesis block\n",
        "                      pass\n",
        "\n",
        "\n",
        "         def get_latest_block(self):\n",
        "        # TODO: return the last element of self.chain\n",
        "        pass\n",
        "\n",
        "bc = Blockchain()\n",
        "print(bc.chain)         # Should contain exactly one Block\n"
      ]
    },
    {
      "cell_type": "code",
      "execution_count": null,
      "metadata": {
        "id": "Gv7x7Ety0GYj",
        "outputId": "d84936ea-76aa-472b-8706-1b75b8510b63",
        "colab": {
          "base_uri": "https://localhost:8080/"
        }
      },
      "outputs": [
        {
          "output_type": "stream",
          "name": "stdout",
          "text": [
            "[<__main__.Block object at 0x7f48cb2ba0d0>]\n",
            "Genesis Block\n"
          ]
        }
      ],
      "source": [
        "import time\n",
        "import hashlib\n",
        "\n",
        "class Block:\n",
        "    def __init__(self, index, previous_hash, timestamp, data, proof):\n",
        "        self.index = index\n",
        "        self.previous_hash = previous_hash\n",
        "        self.timestamp = timestamp\n",
        "        self.data = data\n",
        "        self.proof = proof\n",
        "        self.hash = self.calculate_hash()\n",
        "\n",
        "    def calculate_hash(self):\n",
        "        \"\"\"\n",
        "        Turn this block’s contents into a SHA‑256 hash.\n",
        "        \"\"\"\n",
        "        to_hash = (\n",
        "            f\"{self.index}\"\n",
        "            f\"{self.previous_hash}\"\n",
        "            f\"{self.timestamp}\"\n",
        "            f\"{self.data}\"\n",
        "            f\"{self.proof}\"\n",
        "        )\n",
        "        return hashlib.sha256(to_hash.encode()).hexdigest()\n",
        "\n",
        "class Blockchain:\n",
        "    def __init__(self, difficulty=4):      # Set blockchain difficulty\n",
        "        self.chain = [self.create_genesis_block()]  # Start with the genesis block\n",
        "        self.difficulty = difficulty        # Store the difficulty\n",
        "\n",
        "    def create_genesis_block(self):\n",
        "        # Create and return the very first block in the chain\n",
        "        genesis = Block(\n",
        "            0,                              # index\n",
        "            \"0\",                            # previous_hash\n",
        "            time.time(),                    # timestamp\n",
        "            \"Genesis Block\",                # data\n",
        "            0                               # proof\n",
        "        )\n",
        "        genesis.hash = genesis.calculate_hash()\n",
        "        return genesis\n",
        "\n",
        "    def get_latest_block(self):\n",
        "        # Return the most recent block in the chain\n",
        "        return self.chain[-1]\n",
        "\n",
        "# ---- simple test ----\n",
        "if __name__ == \"__main__\":\n",
        "    bc = Blockchain()\n",
        "    print(bc.chain)                     # Should contain exactly one Block (the genesis)\n",
        "    print(bc.get_latest_block().data)   # Should print \"Genesis Block\"\n"
      ]
    },
    {
      "cell_type": "markdown",
      "source": [],
      "metadata": {
        "id": "FbpyJprw7vcc"
      }
    }
  ]
}